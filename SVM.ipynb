{
 "cells": [
  {
   "cell_type": "code",
   "execution_count": 1,
   "id": "18009d7b",
   "metadata": {},
   "outputs": [],
   "source": [
    "# Import all the libraries\n",
    "import matplotlib.pyplot as plt\n",
    "import numpy as np\n",
    "import pandas as pd\n",
    "from sklearn.svm import LinearSVC\n",
    "from sklearn import metrics\n",
    "from sklearn.metrics import confusion_matrix,classification_report\n",
    "from sklearn.svm import SVC\n",
    "import pickle\n",
    "from sklearn.model_selection import KFold\n",
    "from sklearn.model_selection import cross_val_score\n",
    "from sklearn.model_selection import GridSearchCV\n",
    "from sklearn.model_selection import train_test_split"
   ]
  },
  {
   "cell_type": "markdown",
   "id": "1237dc00",
   "metadata": {},
   "source": [
    "Import Dataset"
   ]
  },
  {
   "cell_type": "code",
   "execution_count": 20,
   "id": "b48851c6",
   "metadata": {},
   "outputs": [],
   "source": [
    "import cv2\n",
    "data = []\n",
    "labels = []\n",
    "# Dictionary to map the numerals in different language with the output labels\n",
    "Devnagari = {\"0\":0,\"1\":10,\"2\":2,\"3\":3,\"4\":11,\"5\":12,\"6\":13,\"7\":14,\"8\":15,\"9\":9}\n",
    "Western_Arabic = {\"0\":16,\"1\":1,\"2\":17,\"3\":18,\"4\":19,\"5\":20,\"6\":21,\"7\":22,\"8\":23,\"9\":9}\n",
    "f = open(\"/Users/Rutvik/Desktop/ML Project/Code/Data/Subsets/DAT_Representation/dataset_final.dat\", \"rb+\")\n",
    "dataset = pickle.load(f)\n",
    "for i in range(len(dataset[0])):\n",
    "    image = dataset[0][i]\n",
    "    number = np.argmax(dataset[1][i])\n",
    "    data.append(image)\n",
    "    labels.append(number)"
   ]
  },
  {
   "cell_type": "code",
   "execution_count": 3,
   "id": "41e8df95",
   "metadata": {},
   "outputs": [],
   "source": [
    "#split the dataset into train and test sets\n",
    "X_train,X_test,y_train,y_test = train_test_split(data,labels, test_size = 0.4, random_state = 1)\n",
    "X_train,X_test,y_train,y_test = train_test_split(X_train,y_train,test_size = 0.7, random_state = 1)"
   ]
  },
  {
   "cell_type": "code",
   "execution_count": 4,
   "id": "d6c9372a",
   "metadata": {},
   "outputs": [],
   "source": [
    "# Reshaping the dataset\n",
    "X_train = np.array(X_train)\n",
    "X_test = np.array(X_test)\n",
    "n_samples,nx,ny = X_train.shape\n",
    "n_samples_test,nx_test,ny_test = X_test.shape\n",
    "X_train = X_train.reshape((n_samples,nx*ny))\n",
    "X_test_ = X_test.reshape((n_samples_test,nx_test*ny_test))"
   ]
  },
  {
   "cell_type": "markdown",
   "id": "3e00e43a",
   "metadata": {},
   "source": [
    "Train Model"
   ]
  },
  {
   "cell_type": "code",
   "execution_count": 5,
   "id": "52f8a5e7",
   "metadata": {},
   "outputs": [
    {
     "name": "stdout",
     "output_type": "stream",
     "text": [
      "Acc:  0.6089932022781555\n"
     ]
    },
    {
     "name": "stderr",
     "output_type": "stream",
     "text": [
      "/Users/Rutvik/opt/anaconda3/lib/python3.7/site-packages/sklearn/svm/_base.py:986: ConvergenceWarning: Liblinear failed to converge, increase the number of iterations.\n",
      "  \"the number of iterations.\", ConvergenceWarning)\n"
     ]
    }
   ],
   "source": [
    "svm = LinearSVC()\n",
    "svm.fit(X_train,y_train)\n",
    "acc = svm.score(X_train,y_train)\n",
    "print(\"Acc: \",acc)"
   ]
  },
  {
   "cell_type": "code",
   "execution_count": 6,
   "id": "7c3f00ab",
   "metadata": {},
   "outputs": [],
   "source": [
    "y_pred_Linear = svm.predict(X_test_)"
   ]
  },
  {
   "cell_type": "code",
   "execution_count": 7,
   "id": "e9a14e68",
   "metadata": {},
   "outputs": [
    {
     "data": {
      "text/plain": [
       "array([[3161,    4,   99,   27,  108,   35,   92,   19,   11,  172,    2,\n",
       "          58,    1,    4,    4,   11,   49,   31,    2,    7,   19,    1,\n",
       "          41,   12],\n",
       "       [ 268, 3424,   76,   23,   17,    2,   27,   13,   14,   44,    6,\n",
       "          85,    0,    1,    1,    0,   87,  176,    6,    3,    0,   12,\n",
       "          64,   11],\n",
       "       [ 418,   86, 2431,   78,   80,   19,   70,   43,  106,  222,    3,\n",
       "         128,    9,    4,    9,    6,   15,  103,    5,   12,    5,    9,\n",
       "          49,   21],\n",
       "       [ 562,   95,  187, 2403,   41,   74,   26,   58,   57,  205,   12,\n",
       "         186,    0,    4,   10,    3,   21,  103,    3,   13,    1,   11,\n",
       "          39,   19],\n",
       "       [  27,    4,   16,    4, 2584,    2,   26,   14,    9,  180,    0,\n",
       "           4,    1,    1,    0,    0,    4,    8,    0,    1,    0,    3,\n",
       "           2,    3],\n",
       "       [ 298,   35,   17,  122,  160, 1678,   70,   29,   63,   75,    5,\n",
       "          34,    0,    1,    0,    2,    0,    7,   10,    1,    2,    4,\n",
       "           2,    2],\n",
       "       [  49,    3,   37,    4,   61,   25, 2636,    3,    8,   16,    0,\n",
       "          13,    0,    1,    0,    1,    0,    0,    2,    2,    0,    0,\n",
       "           5,    2],\n",
       "       [  29,   29,   30,   19,   93,    2,    5, 2679,    4,  141,    3,\n",
       "          12,    2,    2,    1,    0,    3,    5,    2,    3,    0,    3,\n",
       "           1,    2],\n",
       "       [ 525,  148,   72,   68,  150,  119,   21,   27, 1554,  100,    4,\n",
       "          62,    0,    1,    0,    0,    2,    6,    2,    2,    0,    0,\n",
       "           3,    0],\n",
       "       [ 816,   55,   85,   42,  468,   49,    5,  141,   14, 2720,   29,\n",
       "         219,    1,    5,    9,    4,   69,  211,    4,   24,    0,   16,\n",
       "          65,   33],\n",
       "       [ 426,   42,   36,   12,    8,    6,    8,    2,    6,  196,   37,\n",
       "         129,    9,    6,    3,    1,    5,  116,    2,    8,    1,    7,\n",
       "          40,    1],\n",
       "       [ 327,   17,   44,   12,   15,    2,   13,    0,    5,   96,    4,\n",
       "         296,    9,    2,    5,    1,   21,  112,    6,    5,    1,    6,\n",
       "          60,    7],\n",
       "       [ 290,   20,   44,   25,   44,    0,    0,    9,    2,  156,    9,\n",
       "         171,   38,    3,   19,    4,   47,   84,    7,    5,    1,    7,\n",
       "          46,    6],\n",
       "       [ 384,    8,   46,   16,   19,   17,   30,    0,    5,  160,    8,\n",
       "         162,    9,   40,   15,    9,   13,   41,    5,   31,    4,    4,\n",
       "          30,   18],\n",
       "       [ 413,    6,   40,    9,   39,    1,   27,    4,    1,  123,    1,\n",
       "         149,    7,    5,   86,    3,   10,   46,    4,    3,    9,    6,\n",
       "          58,   12],\n",
       "       [ 521,    4,   20,    4,   39,    8,   31,    0,    1,  107,    0,\n",
       "          85,    0,    1,   12,   90,    8,   33,    1,   17,   10,    1,\n",
       "          47,   34],\n",
       "       [ 142,   34,    5,    0,   11,    0,    0,    0,    0,   60,    0,\n",
       "          58,    0,    0,    0,    0,  659,   84,    0,    4,    0,    0,\n",
       "          18,    7],\n",
       "       [ 279,   25,   31,    7,   18,    3,    6,    1,   11,   91,    2,\n",
       "          95,    3,    0,    0,    0,   57,  371,    7,    2,    1,    8,\n",
       "          66,    9],\n",
       "       [ 308,   14,   40,    7,   15,    2,    4,    6,    8,  185,    3,\n",
       "          89,   10,    5,   18,    2,   72,  107,   73,   16,    9,   10,\n",
       "          36,    8],\n",
       "       [ 367,   52,   41,   12,   30,    5,   32,    1,    3,  146,   12,\n",
       "         134,    1,    2,    4,   11,   18,   93,    7,   55,    2,    4,\n",
       "          41,   21],\n",
       "       [ 518,    5,   10,   12,   42,    1,    1,   10,    0,  205,    1,\n",
       "          29,    4,    1,    4,    5,   45,   46,    4,    4,   40,    2,\n",
       "          67,   13],\n",
       "       [ 298,   55,   60,    3,   22,    5,    4,   46,    1,  122,    9,\n",
       "          97,    5,    4,    5,    1,   27,  116,    4,    0,    3,  125,\n",
       "          56,    9],\n",
       "       [ 361,   13,   31,    4,   79,    0,   12,    4,   16,  114,    0,\n",
       "          68,    3,    1,    6,    3,   52,  143,   12,    3,    1,   10,\n",
       "         132,   11],\n",
       "       [ 393,   16,   23,   27,   16,    3,    3,    2,    2,  127,    1,\n",
       "          64,    0,    2,    6,   14,   53,   67,    6,   10,    4,    5,\n",
       "          59,  148]])"
      ]
     },
     "execution_count": 7,
     "metadata": {},
     "output_type": "execute_result"
    }
   ],
   "source": [
    "confusion = metrics.confusion_matrix(y_true = y_test, y_pred = y_pred_Linear)\n",
    "confusion"
   ]
  },
  {
   "cell_type": "code",
   "execution_count": 8,
   "id": "17aef55a",
   "metadata": {},
   "outputs": [
    {
     "data": {
      "text/plain": [
       "0.5405086213683962"
      ]
     },
     "execution_count": 8,
     "metadata": {},
     "output_type": "execute_result"
    }
   ],
   "source": [
    "metrics.accuracy_score(y_true=y_test, y_pred=y_pred_Linear)\n"
   ]
  },
  {
   "cell_type": "code",
   "execution_count": 10,
   "id": "79cec2d7",
   "metadata": {},
   "outputs": [
    {
     "name": "stdout",
     "output_type": "stream",
     "text": [
      "              precision    recall  f1-score   support\n",
      "\n",
      "           0       0.28      0.80      0.42      3970\n",
      "           1       0.82      0.79      0.80      4360\n",
      "           2       0.69      0.62      0.65      3931\n",
      "           3       0.82      0.58      0.68      4133\n",
      "           4       0.62      0.89      0.73      2893\n",
      "           5       0.82      0.64      0.72      2617\n",
      "           6       0.84      0.92      0.88      2868\n",
      "           7       0.86      0.87      0.87      3070\n",
      "           8       0.82      0.54      0.65      2866\n",
      "           9       0.47      0.54      0.50      5084\n",
      "          10       0.25      0.03      0.06      1107\n",
      "          11       0.12      0.28      0.17      1066\n",
      "          12       0.34      0.04      0.07      1037\n",
      "          13       0.42      0.04      0.07      1074\n",
      "          14       0.40      0.08      0.13      1062\n",
      "          15       0.53      0.08      0.14      1074\n",
      "          16       0.49      0.61      0.54      1082\n",
      "          17       0.18      0.34      0.23      1093\n",
      "          18       0.42      0.07      0.12      1047\n",
      "          19       0.24      0.05      0.08      1094\n",
      "          20       0.35      0.04      0.07      1069\n",
      "          21       0.49      0.12      0.19      1077\n",
      "          22       0.13      0.12      0.13      1079\n",
      "          23       0.36      0.14      0.20      1051\n",
      "\n",
      "    accuracy                           0.54     50804\n",
      "   macro avg       0.49      0.38      0.38     50804\n",
      "weighted avg       0.58      0.54      0.52     50804\n",
      "\n"
     ]
    }
   ],
   "source": [
    "report = classification_report(y_test, y_pred_Linear)\n",
    "print(report)"
   ]
  },
  {
   "cell_type": "code",
   "execution_count": null,
   "id": "5245d406",
   "metadata": {},
   "outputs": [],
   "source": [
    "# K fold Cross validation\n",
    "from sklearn.model_selection import cross_val_score\n",
    "scores = cross_val_score(svm, X_train,y_train,scoring = 'r2', cv = 5)\n",
    "scores"
   ]
  },
  {
   "cell_type": "markdown",
   "id": "47ef76f6",
   "metadata": {},
   "source": [
    "Non-Linear SVM"
   ]
  },
  {
   "cell_type": "code",
   "execution_count": 11,
   "id": "36f8c2e8",
   "metadata": {},
   "outputs": [
    {
     "data": {
      "text/plain": [
       "SVC()"
      ]
     },
     "execution_count": 11,
     "metadata": {},
     "output_type": "execute_result"
    }
   ],
   "source": [
    "from sklearn import svm\n",
    "svm_rbf = svm.SVC(kernel='rbf')\n",
    "svm_rbf.fit(X_train, y_train)\n"
   ]
  },
  {
   "cell_type": "code",
   "execution_count": 12,
   "id": "a48f5c3f",
   "metadata": {},
   "outputs": [],
   "source": [
    "y_pred_Non_Linear = svm_rbf.predict(X_test_)"
   ]
  },
  {
   "cell_type": "code",
   "execution_count": 13,
   "id": "9ebb9b67",
   "metadata": {},
   "outputs": [
    {
     "name": "stdout",
     "output_type": "stream",
     "text": [
      "0.7857649004015432\n"
     ]
    }
   ],
   "source": [
    "print(metrics.accuracy_score(y_true=y_test, y_pred=y_pred_Non_Linear))\n"
   ]
  },
  {
   "cell_type": "code",
   "execution_count": 15,
   "id": "573702e0",
   "metadata": {},
   "outputs": [
    {
     "name": "stdout",
     "output_type": "stream",
     "text": [
      "              precision    recall  f1-score   support\n",
      "\n",
      "           0       0.85      0.85      0.85      3970\n",
      "           1       0.87      0.93      0.90      4360\n",
      "           2       0.91      0.80      0.85      3931\n",
      "           3       0.86      0.82      0.84      4133\n",
      "           4       0.93      0.95      0.94      2893\n",
      "           5       0.95      0.95      0.95      2617\n",
      "           6       0.94      0.97      0.95      2868\n",
      "           7       0.95      0.95      0.95      3070\n",
      "           8       0.93      0.94      0.93      2866\n",
      "           9       0.56      0.86      0.68      5084\n",
      "          10       0.48      0.12      0.19      1107\n",
      "          11       0.61      0.59      0.60      1066\n",
      "          12       0.57      0.33      0.42      1037\n",
      "          13       0.58      0.51      0.54      1074\n",
      "          14       0.69      0.61      0.65      1062\n",
      "          15       0.72      0.69      0.71      1074\n",
      "          16       0.64      0.89      0.75      1082\n",
      "          17       0.57      0.52      0.54      1093\n",
      "          18       0.74      0.55      0.63      1047\n",
      "          19       0.60      0.29      0.39      1094\n",
      "          20       0.52      0.54      0.53      1069\n",
      "          21       0.68      0.57      0.62      1077\n",
      "          22       0.74      0.62      0.67      1079\n",
      "          23       0.77      0.66      0.71      1051\n",
      "\n",
      "    accuracy                           0.79     50804\n",
      "   macro avg       0.73      0.69      0.70     50804\n",
      "weighted avg       0.79      0.79      0.78     50804\n",
      "\n"
     ]
    }
   ],
   "source": [
    "report = classification_report(y_test, y_pred_Non_Linear)\n",
    "print(report)"
   ]
  },
  {
   "cell_type": "code",
   "execution_count": null,
   "id": "83a893ba",
   "metadata": {},
   "outputs": [],
   "source": [
    "confusion = metrics.confusion_matrix(y_true = y_test, y_pred = y_pred_Non_Linear)\n",
    "confusion"
   ]
  },
  {
   "cell_type": "code",
   "execution_count": null,
   "id": "c15582d1",
   "metadata": {},
   "outputs": [],
   "source": [
    "report = classification_report(y_test, y_pred_Non_Linear)\n",
    "print(report)"
   ]
  },
  {
   "cell_type": "markdown",
   "id": "f51e2cbe",
   "metadata": {},
   "source": [
    "Grid Search"
   ]
  },
  {
   "cell_type": "code",
   "execution_count": 21,
   "id": "9e5e3eba",
   "metadata": {},
   "outputs": [],
   "source": [
    "model_params = {\n",
    "    'svm': {\n",
    "        'model': svm.SVC(),\n",
    "        'params' : {\n",
    "            'C': [1,10],\n",
    "            'kernel': ['rbf','linear'],\n",
    "            'gamma': [0.3, 0.5,0.1]\n",
    "        }  \n",
    "    }\n",
    "}"
   ]
  },
  {
   "cell_type": "code",
   "execution_count": null,
   "id": "7cb078d3",
   "metadata": {},
   "outputs": [],
   "source": [
    "from sklearn.model_selection import GridSearchCV\n",
    "scores = []\n",
    "X_train = X_train[:10000]\n",
    "y_train = y_train[0:10000]\n",
    "for model_name, mp in model_params.items():\n",
    "    clfgrid =  GridSearchCV(mp['model'], mp['params'], cv=5,n_jobs = -1 ,return_train_score=False)\n",
    "    clfgrid.fit(X_train, y_train)\n",
    "    scores.append({\n",
    "        'model': model_name,\n",
    "        'best_score': clfgrid.best_score_,\n",
    "        'best_params': clfgrid.best_params_\n",
    "    })\n",
    "    \n",
    "df_grid = pd.DataFrame(scores,columns=['model','best_score','best_params'])\n",
    "df_grid\n"
   ]
  },
  {
   "cell_type": "markdown",
   "id": "fbbb0672",
   "metadata": {},
   "source": [
    "Training using best parameters"
   ]
  },
  {
   "cell_type": "code",
   "execution_count": null,
   "id": "e7f05528",
   "metadata": {},
   "outputs": [],
   "source": [
    "model = SVC(C=1, gamma=0.3, kernel=\"linear\")\n",
    "\n",
    "model.fit(X_train, y_train)\n",
    "y_pred = model.predict(X_test_)\n",
    "\n",
    "# metrics\n",
    "print(\"accuracy\", metrics.accuracy_score(y_test, y_pred), \"\\n\")\n",
    "print(metrics.confusion_matrix(y_test, y_pred), \"\\n\")"
   ]
  },
  {
   "cell_type": "code",
   "execution_count": 14,
   "id": "17e1eb4c",
   "metadata": {},
   "outputs": [
    {
     "name": "stdout",
     "output_type": "stream",
     "text": [
      "0.10007086056216045\n"
     ]
    }
   ],
   "source": [
    "print(metrics.accuracy_score(y_true=y_test, y_pred=y_pred))\n"
   ]
  },
  {
   "cell_type": "code",
   "execution_count": null,
   "id": "cda13542",
   "metadata": {},
   "outputs": [],
   "source": [
    "report = classification_report(y_test, y_pred)\n",
    "print(report)"
   ]
  },
  {
   "cell_type": "markdown",
   "id": "5928fdaf",
   "metadata": {},
   "source": [
    "Finding ROC and AUC curves"
   ]
  },
  {
   "cell_type": "code",
   "execution_count": null,
   "id": "62761988",
   "metadata": {},
   "outputs": [],
   "source": [
    "from sklearn.calibration import CalibratedClassifierCV\n",
    "svm = LinearSVC()\n",
    "clf = CalibratedClassifierCV(svm) \n",
    "clf.fit(X_train, y_train)\n",
    "y_proba_Linear = clf.predict_proba(X_test_)"
   ]
  },
  {
   "cell_type": "code",
   "execution_count": null,
   "id": "b55609de",
   "metadata": {},
   "outputs": [],
   "source": [
    "from sklearn.metrics import roc_curve, auc,roc_auc_score\n",
    "roc_auc_score(y_test, y_proba_Linear,multi_class = \"ovr\")"
   ]
  },
  {
   "cell_type": "code",
   "execution_count": null,
   "id": "7868cdbf",
   "metadata": {},
   "outputs": [],
   "source": [
    "from sklearn import svm\n",
    "from sklearn.multiclass import OneVsRestClassifier\n",
    "svm_rbf = OneVsRestClassifier(svm.SVC(kernel='rbf',probability = True))\n",
    "svm_rbf.fit(X_train, y_train)\n"
   ]
  },
  {
   "cell_type": "code",
   "execution_count": null,
   "id": "711464b9",
   "metadata": {},
   "outputs": [],
   "source": [
    "y_pred =svm_rbf.predict(X_test_)\n",
    "y_proba_Linear = svm_rbf.predict_proba(X_test_)"
   ]
  },
  {
   "cell_type": "code",
   "execution_count": null,
   "id": "38777dac",
   "metadata": {},
   "outputs": [],
   "source": [
    "classes=np.unique(y_test)"
   ]
  },
  {
   "cell_type": "code",
   "execution_count": null,
   "id": "c0179ec8",
   "metadata": {},
   "outputs": [],
   "source": [
    "from sklearn.preprocessing import label_binarize\n",
    "#binarize the y_values\n",
    "\n",
    "y_test_binarized=label_binarize(y_test,classes=np.unique(y_test))\n",
    "\n",
    "# roc curve for classes\n",
    "fpr = {}\n",
    "tpr = {}\n",
    "thresh ={}\n",
    "roc_auc = dict()\n",
    "\n",
    "n_class = 3\n",
    "\n",
    "for i in range(n_class):    \n",
    "    fpr[i], tpr[i], thresh[i] = roc_curve(y_test_binarized[:,i], y_proba_Linear[:,i])\n",
    "    roc_auc[i] = auc(fpr[i], tpr[i])\n",
    "    \n",
    "    # plotting    \n",
    "    plt.plot(fpr[i], tpr[i], linestyle='--', \n",
    "             label='%s VS Rest (AUC=%0.2f)'%(classes[i],roc_auc[i]))\n",
    "\n",
    "plt.plot([0,1],[0,1],'b--')\n",
    "plt.xlim([0,1])\n",
    "plt.ylim([0,1.05])\n",
    "plt.title('Multiclass ROC curve')\n",
    "plt.xlabel('False Positive Rate')\n",
    "plt.ylabel('True Positive rate')\n",
    "plt.legend(loc='lower right')\n",
    "plt.show()"
   ]
  },
  {
   "cell_type": "code",
   "execution_count": null,
   "id": "0d4fb24b",
   "metadata": {},
   "outputs": [],
   "source": []
  }
 ],
 "metadata": {
  "kernelspec": {
   "display_name": "Python 3 (ipykernel)",
   "language": "python",
   "name": "python3"
  },
  "language_info": {
   "codemirror_mode": {
    "name": "ipython",
    "version": 3
   },
   "file_extension": ".py",
   "mimetype": "text/x-python",
   "name": "python",
   "nbconvert_exporter": "python",
   "pygments_lexer": "ipython3",
   "version": "3.7.13"
  }
 },
 "nbformat": 4,
 "nbformat_minor": 5
}
