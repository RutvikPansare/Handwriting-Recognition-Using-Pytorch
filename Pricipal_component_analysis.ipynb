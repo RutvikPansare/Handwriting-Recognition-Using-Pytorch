{
 "cells": [
  {
   "cell_type": "code",
   "execution_count": 13,
   "id": "122526eb",
   "metadata": {},
   "outputs": [],
   "source": [
    "from keras.datasets import mnist\n",
    "import matplotlib.pyplot as plt\n",
    "import numpy as np\n",
    "import pandas as pd\n",
    "from sklearn.svm import LinearSVC\n",
    "from sklearn import metrics\n",
    "from sklearn.metrics import confusion_matrix\n",
    "from sklearn.svm import SVC\n",
    "import pickle\n",
    "from sklearn.model_selection import train_test_split"
   ]
  },
  {
   "cell_type": "code",
   "execution_count": 11,
   "id": "0fbe0065",
   "metadata": {},
   "outputs": [],
   "source": [
    "import cv2\n",
    "data = []\n",
    "labels = []\n",
    "Devnagari = {\"0\":0,\"1\":10,\"2\":2,\"3\":3,\"4\":11,\"5\":12,\"6\":13,\"7\":14,\"8\":15,\"9\":9}\n",
    "Western_Arabic = {\"0\":16,\"1\":1,\"2\":17,\"3\":18,\"4\":19,\"5\":20,\"6\":21,\"7\":22,\"8\":23,\"9\":9}\n",
    "f = open(\"/Users/Rutvik/Desktop/ML Project/Code/Data/Subsets/DAT_Representation/dataset_final.dat\", \"rb+\")\n",
    "dataset = pickle.load(f)\n",
    "for i in range(len(dataset[0])):\n",
    "    image = dataset[0][i]\n",
    "    number = np.argmax(dataset[1][i])\n",
    "    data.append(image)\n",
    "    labels.append(number)"
   ]
  },
  {
   "cell_type": "code",
   "execution_count": 14,
   "id": "e1470695",
   "metadata": {},
   "outputs": [],
   "source": [
    "X_train,X_test,y_train,y_test = train_test_split(data,labels, test_size = 0.2, random_state = 1)"
   ]
  },
  {
   "cell_type": "code",
   "execution_count": 15,
   "id": "59e900cb",
   "metadata": {},
   "outputs": [],
   "source": [
    "X_train = np.array(X_train)\n",
    "X_test = np.array(X_test)\n",
    "n_samples,nx,ny = X_train.shape\n",
    "n_samples_test,nx_test,ny_test = X_test.shape\n",
    "X_train = X_train.reshape((n_samples,nx*ny))\n",
    "X_test_ = X_test.reshape((n_samples_test,nx_test*ny_test))"
   ]
  },
  {
   "cell_type": "code",
   "execution_count": 16,
   "id": "15558d76",
   "metadata": {},
   "outputs": [
    {
     "name": "stdout",
     "output_type": "stream",
     "text": [
      "(96768, 784)\n"
     ]
    }
   ],
   "source": [
    "from sklearn.preprocessing import StandardScaler\n",
    "stand_data = StandardScaler().fit_transform(X_train)\n",
    "print(stand_data.shape)"
   ]
  },
  {
   "cell_type": "code",
   "execution_count": 17,
   "id": "e27fff1e",
   "metadata": {},
   "outputs": [
    {
     "data": {
      "text/plain": [
       "(784, 784)"
      ]
     },
     "execution_count": 17,
     "metadata": {},
     "output_type": "execute_result"
    }
   ],
   "source": [
    "sample_data = stand_data\n",
    "covar_matrix = np.matmul(sample_data.T , sample_data)\n",
    "covar_matrix.shape"
   ]
  },
  {
   "cell_type": "code",
   "execution_count": 18,
   "id": "fe62eb2f",
   "metadata": {},
   "outputs": [
    {
     "name": "stdout",
     "output_type": "stream",
     "text": [
      "(784, 2)\n",
      "updated vector\n",
      "(2, 784)\n"
     ]
    }
   ],
   "source": [
    "from scipy.linalg import eigh\n",
    "values, vectors = eigh(covar_matrix, eigvals=(782,783))\n",
    "print(vectors.shape)\n",
    "print(\"updated vector\")\n",
    "vectors = vectors.T\n",
    "print(vectors.shape)"
   ]
  },
  {
   "cell_type": "code",
   "execution_count": 19,
   "id": "859e094b",
   "metadata": {},
   "outputs": [
    {
     "data": {
      "text/html": [
       "<div>\n",
       "<style scoped>\n",
       "    .dataframe tbody tr th:only-of-type {\n",
       "        vertical-align: middle;\n",
       "    }\n",
       "\n",
       "    .dataframe tbody tr th {\n",
       "        vertical-align: top;\n",
       "    }\n",
       "\n",
       "    .dataframe thead th {\n",
       "        text-align: right;\n",
       "    }\n",
       "</style>\n",
       "<table border=\"1\" class=\"dataframe\">\n",
       "  <thead>\n",
       "    <tr style=\"text-align: right;\">\n",
       "      <th></th>\n",
       "      <th>1st_principal</th>\n",
       "      <th>2nd_principal</th>\n",
       "      <th>label</th>\n",
       "    </tr>\n",
       "  </thead>\n",
       "  <tbody>\n",
       "    <tr>\n",
       "      <th>0</th>\n",
       "      <td>44.093032</td>\n",
       "      <td>-24.045731</td>\n",
       "      <td>0.0</td>\n",
       "    </tr>\n",
       "    <tr>\n",
       "      <th>1</th>\n",
       "      <td>-1.809476</td>\n",
       "      <td>7.780801</td>\n",
       "      <td>18.0</td>\n",
       "    </tr>\n",
       "    <tr>\n",
       "      <th>2</th>\n",
       "      <td>1.069019</td>\n",
       "      <td>3.552681</td>\n",
       "      <td>5.0</td>\n",
       "    </tr>\n",
       "    <tr>\n",
       "      <th>3</th>\n",
       "      <td>-1.776663</td>\n",
       "      <td>7.341678</td>\n",
       "      <td>18.0</td>\n",
       "    </tr>\n",
       "    <tr>\n",
       "      <th>4</th>\n",
       "      <td>3.448149</td>\n",
       "      <td>-5.538327</td>\n",
       "      <td>20.0</td>\n",
       "    </tr>\n",
       "    <tr>\n",
       "      <th>...</th>\n",
       "      <td>...</td>\n",
       "      <td>...</td>\n",
       "      <td>...</td>\n",
       "    </tr>\n",
       "    <tr>\n",
       "      <th>96763</th>\n",
       "      <td>-0.417632</td>\n",
       "      <td>6.615397</td>\n",
       "      <td>0.0</td>\n",
       "    </tr>\n",
       "    <tr>\n",
       "      <th>96764</th>\n",
       "      <td>-2.691448</td>\n",
       "      <td>3.991330</td>\n",
       "      <td>14.0</td>\n",
       "    </tr>\n",
       "    <tr>\n",
       "      <th>96765</th>\n",
       "      <td>-0.940847</td>\n",
       "      <td>6.042949</td>\n",
       "      <td>0.0</td>\n",
       "    </tr>\n",
       "    <tr>\n",
       "      <th>96766</th>\n",
       "      <td>3.554677</td>\n",
       "      <td>-5.343086</td>\n",
       "      <td>23.0</td>\n",
       "    </tr>\n",
       "    <tr>\n",
       "      <th>96767</th>\n",
       "      <td>-1.577712</td>\n",
       "      <td>7.213165</td>\n",
       "      <td>9.0</td>\n",
       "    </tr>\n",
       "  </tbody>\n",
       "</table>\n",
       "<p>96768 rows × 3 columns</p>\n",
       "</div>"
      ],
      "text/plain": [
       "       1st_principal  2nd_principal  label\n",
       "0          44.093032     -24.045731    0.0\n",
       "1          -1.809476       7.780801   18.0\n",
       "2           1.069019       3.552681    5.0\n",
       "3          -1.776663       7.341678   18.0\n",
       "4           3.448149      -5.538327   20.0\n",
       "...              ...            ...    ...\n",
       "96763      -0.417632       6.615397    0.0\n",
       "96764      -2.691448       3.991330   14.0\n",
       "96765      -0.940847       6.042949    0.0\n",
       "96766       3.554677      -5.343086   23.0\n",
       "96767      -1.577712       7.213165    9.0\n",
       "\n",
       "[96768 rows x 3 columns]"
      ]
     },
     "execution_count": 19,
     "metadata": {},
     "output_type": "execute_result"
    }
   ],
   "source": [
    "new_coordinates = np.matmul(vectors,sample_data.T)\n",
    "new_coordinates = np.vstack((new_coordinates,y_train)).T\n",
    "dataframe = pd.DataFrame(data = new_coordinates, columns=(\"1st_principal\", \"2nd_principal\",\"label\"))\n",
    "dataframe"
   ]
  },
  {
   "cell_type": "code",
   "execution_count": 20,
   "id": "cd7dd746",
   "metadata": {},
   "outputs": [
    {
     "name": "stderr",
     "output_type": "stream",
     "text": [
      "/Users/Rutvik/opt/anaconda3/lib/python3.7/site-packages/seaborn/axisgrid.py:316: UserWarning: The `size` parameter has been renamed to `height`; please update your code.\n",
      "  warnings.warn(msg, UserWarning)\n"
     ]
    },
    {
     "data": {
      "image/png": "[encoded data removed]",
      "text/plain": [
       "<Figure size 490.375x432 with 1 Axes>"
      ]
     },
     "metadata": {
      "needs_background": "light"
     },
     "output_type": "display_data"
    }
   ],
   "source": [
    "import seaborn as sn\n",
    "sn.FacetGrid(dataframe, hue = \"label\",size=6).map(plt.scatter, \"1st_principal\",\"2nd_principal\").add_legend()\n",
    "plt.show()"
   ]
  },
  {
   "cell_type": "code",
   "execution_count": 32,
   "id": "c6197950",
   "metadata": {},
   "outputs": [
    {
     "name": "stderr",
     "output_type": "stream",
     "text": [
      "/Users/Rutvik/opt/anaconda3/lib/python3.7/site-packages/ipykernel_launcher.py:1: FutureWarning: In a future version of pandas all arguments of DataFrame.drop except for the argument 'labels' will be keyword-only\n",
      "  \"\"\"Entry point for launching an IPython kernel.\n"
     ]
    }
   ],
   "source": [
    "features = dataframe.drop('label',1)"
   ]
  },
  {
   "cell_type": "code",
   "execution_count": 33,
   "id": "451633c1",
   "metadata": {},
   "outputs": [
    {
     "data": {
      "text/html": [
       "<div>\n",
       "<style scoped>\n",
       "    .dataframe tbody tr th:only-of-type {\n",
       "        vertical-align: middle;\n",
       "    }\n",
       "\n",
       "    .dataframe tbody tr th {\n",
       "        vertical-align: top;\n",
       "    }\n",
       "\n",
       "    .dataframe thead th {\n",
       "        text-align: right;\n",
       "    }\n",
       "</style>\n",
       "<table border=\"1\" class=\"dataframe\">\n",
       "  <thead>\n",
       "    <tr style=\"text-align: right;\">\n",
       "      <th></th>\n",
       "      <th>1st_principal</th>\n",
       "      <th>2nd_principal</th>\n",
       "    </tr>\n",
       "  </thead>\n",
       "  <tbody>\n",
       "    <tr>\n",
       "      <th>0</th>\n",
       "      <td>44.093032</td>\n",
       "      <td>-24.045731</td>\n",
       "    </tr>\n",
       "    <tr>\n",
       "      <th>1</th>\n",
       "      <td>-1.809476</td>\n",
       "      <td>7.780801</td>\n",
       "    </tr>\n",
       "    <tr>\n",
       "      <th>2</th>\n",
       "      <td>1.069019</td>\n",
       "      <td>3.552681</td>\n",
       "    </tr>\n",
       "    <tr>\n",
       "      <th>3</th>\n",
       "      <td>-1.776663</td>\n",
       "      <td>7.341678</td>\n",
       "    </tr>\n",
       "    <tr>\n",
       "      <th>4</th>\n",
       "      <td>3.448149</td>\n",
       "      <td>-5.538327</td>\n",
       "    </tr>\n",
       "    <tr>\n",
       "      <th>...</th>\n",
       "      <td>...</td>\n",
       "      <td>...</td>\n",
       "    </tr>\n",
       "    <tr>\n",
       "      <th>96763</th>\n",
       "      <td>-0.417632</td>\n",
       "      <td>6.615397</td>\n",
       "    </tr>\n",
       "    <tr>\n",
       "      <th>96764</th>\n",
       "      <td>-2.691448</td>\n",
       "      <td>3.991330</td>\n",
       "    </tr>\n",
       "    <tr>\n",
       "      <th>96765</th>\n",
       "      <td>-0.940847</td>\n",
       "      <td>6.042949</td>\n",
       "    </tr>\n",
       "    <tr>\n",
       "      <th>96766</th>\n",
       "      <td>3.554677</td>\n",
       "      <td>-5.343086</td>\n",
       "    </tr>\n",
       "    <tr>\n",
       "      <th>96767</th>\n",
       "      <td>-1.577712</td>\n",
       "      <td>7.213165</td>\n",
       "    </tr>\n",
       "  </tbody>\n",
       "</table>\n",
       "<p>96768 rows × 2 columns</p>\n",
       "</div>"
      ],
      "text/plain": [
       "       1st_principal  2nd_principal\n",
       "0          44.093032     -24.045731\n",
       "1          -1.809476       7.780801\n",
       "2           1.069019       3.552681\n",
       "3          -1.776663       7.341678\n",
       "4           3.448149      -5.538327\n",
       "...              ...            ...\n",
       "96763      -0.417632       6.615397\n",
       "96764      -2.691448       3.991330\n",
       "96765      -0.940847       6.042949\n",
       "96766       3.554677      -5.343086\n",
       "96767      -1.577712       7.213165\n",
       "\n",
       "[96768 rows x 2 columns]"
      ]
     },
     "execution_count": 33,
     "metadata": {},
     "output_type": "execute_result"
    }
   ],
   "source": [
    "features"
   ]
  },
  {
   "cell_type": "code",
   "execution_count": null,
   "id": "f295a606",
   "metadata": {},
   "outputs": [],
   "source": []
  }
 ],
 "metadata": {
  "kernelspec": {
   "display_name": "Python 3 (ipykernel)",
   "language": "python",
   "name": "python3"
  },
  "language_info": {
   "codemirror_mode": {
    "name": "ipython",
    "version": 3
   },
   "file_extension": ".py",
   "mimetype": "text/x-python",
   "name": "python",
   "nbconvert_exporter": "python",
   "pygments_lexer": "ipython3",
   "version": "3.7.13"
  }
 },
 "nbformat": 4,
 "nbformat_minor": 5
}
