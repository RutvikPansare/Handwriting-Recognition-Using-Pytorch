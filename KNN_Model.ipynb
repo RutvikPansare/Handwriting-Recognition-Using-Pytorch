{
 "cells": [
  {
   "cell_type": "code",
   "execution_count": 3,
   "id": "2f072a6e",
   "metadata": {},
   "outputs": [
    {
     "name": "stderr",
     "output_type": "stream",
     "text": [
      "Using TensorFlow backend.\n"
     ]
    }
   ],
   "source": [
    "# Import all the libraries\n",
    "import matplotlib.pyplot as plt\n",
    "import numpy as np\n",
    "from sklearn import metrics\n",
    "from sklearn.metrics import confusion_matrix\n",
    "from sklearn.neighbors import KNeighborsClassifier\n",
    "from sklearn.model_selection import KFold\n",
    "from sklearn.model_selection import cross_val_score\n",
    "from sklearn.model_selection import GridSearchCV\n",
    "import pandas as pd\n",
    "from sklearn.preprocessing import LabelEncoder, OneHotEncoder\n",
    "import pickle\n",
    "from sklearn.model_selection import train_test_split"
   ]
  },
  {
   "cell_type": "code",
   "execution_count": 26,
   "id": "7b623c92",
   "metadata": {},
   "outputs": [],
   "source": [
    "import cv2\n",
    "data = []\n",
    "labels = []\n",
    "# Dictionary to map the numerals in different language with the output labels\n",
    "Devnagari = {\"0\":0,\"1\":10,\"2\":2,\"3\":3,\"4\":11,\"5\":12,\"6\":13,\"7\":14,\"8\":15,\"9\":9}\n",
    "Western_Arabic = {\"0\":16,\"1\":1,\"2\":17,\"3\":18,\"4\":19,\"5\":20,\"6\":21,\"7\":22,\"8\":23,\"9\":9}\n",
    "f = open(\"/Users/Rutvik/Desktop/ML Project/Code/Data/Subsets/DAT_Representation/dataset_final.dat\", \"rb+\")\n",
    "dataset = pickle.load(f)\n",
    "for i in range(len(dataset[0])):\n",
    "    image = dataset[0][i]\n",
    "    number = np.argmax(dataset[1][i])\n",
    "    data.append(image)\n",
    "    labels.append(number)"
   ]
  },
  {
   "cell_type": "code",
   "execution_count": 27,
   "id": "a7ec1846",
   "metadata": {},
   "outputs": [],
   "source": [
    "#split the dataset into train and test sets\n",
    "X_train,X_test,y_train,y_test = train_test_split(data,labels, test_size = 0.2, random_state = 1)"
   ]
  },
  {
   "cell_type": "code",
   "execution_count": 6,
   "id": "a63ad1e0",
   "metadata": {},
   "outputs": [
    {
     "data": {
      "image/png": "[encoded data removed]",
      "text/plain": [
       "<Figure size 432x288 with 1 Axes>"
      ]
     },
     "metadata": {
      "needs_background": "light"
     },
     "output_type": "display_data"
    }
   ],
   "source": [
    "import matplotlib.pyplot as plt\n",
    "plt.imshow(X_train[3],cmap = plt.cm.gray_r)\n",
    "plt.axis('off')\n",
    "plt.title('number: ' + str(y_train[3]))\n",
    "None"
   ]
  },
  {
   "cell_type": "code",
   "execution_count": 7,
   "id": "ad834c62",
   "metadata": {},
   "outputs": [
    {
     "data": {
      "image/png": "[encoded data removed]",
      "text/plain": [
       "<Figure size 1080x864 with 10 Axes>"
      ]
     },
     "metadata": {
      "needs_background": "light"
     },
     "output_type": "display_data"
    }
   ],
   "source": [
    "figures, axes = plt.subplots(2,5, figsize = (15,12))\n",
    "\n",
    "for ax,image,number in zip(axes.ravel(),X_train, y_train):\n",
    "    ax.imshow(image, cmap = plt.cm.gray_r)\n",
    "    ax.axis('off')\n",
    "    ax.set_title('Number: ' + str(number))"
   ]
  },
  {
   "cell_type": "code",
   "execution_count": 8,
   "id": "5b7b1c52",
   "metadata": {},
   "outputs": [
    {
     "name": "stderr",
     "output_type": "stream",
     "text": [
      "/Users/Rutvik/opt/anaconda3/lib/python3.7/site-packages/seaborn/_decorators.py:43: FutureWarning: Pass the following variable as a keyword arg: x. From version 0.12, the only valid positional argument will be `data`, and passing other arguments without an explicit keyword will result in an error or misinterpretation.\n",
      "  FutureWarning\n"
     ]
    },
    {
     "data": {
      "text/plain": [
       "[Text(0, 0.5, 'Count'), Text(0.5, 0, 'label')]"
      ]
     },
     "execution_count": 8,
     "metadata": {},
     "output_type": "execute_result"
    },
    {
     "data": {
      "image/png": "[encoded data removed]",
      "text/plain": [
       "<Figure size 432x288 with 1 Axes>"
      ]
     },
     "metadata": {
      "needs_background": "light"
     },
     "output_type": "display_data"
    }
   ],
   "source": [
    "import seaborn as sns\n",
    "p = sns.countplot(y_train)\n",
    "p.set( xlabel = \"label\", ylabel = \"Count\")"
   ]
  },
  {
   "cell_type": "code",
   "execution_count": 9,
   "id": "b450d39e",
   "metadata": {},
   "outputs": [
    {
     "data": {
      "text/plain": [
       "KNeighborsClassifier(n_neighbors=3)"
      ]
     },
     "execution_count": 9,
     "metadata": {},
     "output_type": "execute_result"
    }
   ],
   "source": [
    "X_train = np.array(X_train)\n",
    "X_test = np.array(X_test)\n",
    "n_samples,nx,ny = X_train.shape\n",
    "n_samples_test,nx_test,ny_test = X_test.shape\n",
    "X_train = X_train.reshape((n_samples,nx*ny))\n",
    "X_test_ = X_test.reshape((n_samples_test,nx_test*ny_test))\n",
    "X_train.shape\n",
    "knn = KNeighborsClassifier(n_neighbors = 3)\n",
    "knn.fit(X_train, y_train)"
   ]
  },
  {
   "cell_type": "code",
   "execution_count": 10,
   "id": "f4b5fd31",
   "metadata": {},
   "outputs": [
    {
     "data": {
      "text/plain": [
       "array([ 5,  9, 22, ...,  2,  9,  3])"
      ]
     },
     "execution_count": 10,
     "metadata": {},
     "output_type": "execute_result"
    }
   ],
   "source": [
    "y_pred = knn.predict(X_test_)\n",
    "\n",
    "y_pred"
   ]
  },
  {
   "cell_type": "code",
   "execution_count": 11,
   "id": "4cc84b0f",
   "metadata": {},
   "outputs": [
    {
     "name": "stdout",
     "output_type": "stream",
     "text": [
      "              precision    recall  f1-score   support\n",
      "\n",
      "           0       0.84      0.91      0.87      1873\n",
      "           1       0.84      0.98      0.91      2131\n",
      "           2       0.88      0.90      0.89      2016\n",
      "           3       0.92      0.88      0.90      1916\n",
      "           4       0.97      0.97      0.97      1358\n",
      "           5       0.96      0.97      0.96      1233\n",
      "           6       0.97      0.98      0.98      1399\n",
      "           7       0.96      0.97      0.96      1478\n",
      "           8       0.98      0.93      0.95      1293\n",
      "           9       0.80      0.87      0.84      2402\n",
      "          10       0.55      0.47      0.51       510\n",
      "          11       0.79      0.64      0.71       485\n",
      "          12       0.76      0.56      0.65       484\n",
      "          13       0.78      0.65      0.71       516\n",
      "          14       0.84      0.75      0.79       510\n",
      "          15       0.77      0.86      0.82       487\n",
      "          16       0.65      0.92      0.76       494\n",
      "          17       0.68      0.69      0.69       494\n",
      "          18       0.83      0.60      0.70       517\n",
      "          19       0.75      0.56      0.64       493\n",
      "          20       0.66      0.60      0.63       524\n",
      "          21       0.83      0.75      0.79       482\n",
      "          22       0.84      0.72      0.78       526\n",
      "          23       0.90      0.80      0.85       571\n",
      "\n",
      "    accuracy                           0.86     24192\n",
      "   macro avg       0.82      0.79      0.80     24192\n",
      "weighted avg       0.86      0.86      0.86     24192\n",
      "\n"
     ]
    }
   ],
   "source": [
    "from sklearn.metrics import classification_report\n",
    "report = classification_report(y_test, y_pred)\n",
    "print(report)"
   ]
  },
  {
   "cell_type": "code",
   "execution_count": 12,
   "id": "cc677765",
   "metadata": {},
   "outputs": [
    {
     "name": "stdout",
     "output_type": "stream",
     "text": [
      "[[1701    2    4    1    0    0    2    0    1    9    1    3    2    2\n",
      "     5    4   24    0    3    0  102    1    1    5]\n",
      " [   2 2091    5    2    0    1    0    2    0    2    2    0    0    0\n",
      "     0    0   12    0    0    0    0   11    1    0]\n",
      " [  15   27 1818   22    0    0    2   20    1   41   11    2    5    6\n",
      "     3    3    2    9    2    6    6   11    1    3]\n",
      " [   7   51   49 1680    0   22    1    9    7   22   21    7    1    2\n",
      "     3    1   10    0    2   10    2    7    2    0]\n",
      " [   2    7    1    0 1311    0    2    3    0   27    0    1    0    0\n",
      "     1    0    0    0    0    0    0    0    1    2]\n",
      " [   8    1    0   14    3 1196    6    0    0    5    0    0    0    0\n",
      "     0    0    0    0    0    0    0    0    0    0]\n",
      " [   7    3    0    0    2    7 1378    0    0    0    0    0    0    0\n",
      "     0    2    0    0    0    0    0    0    0    0]\n",
      " [   2   19    3    0    3    0    0 1431    0   16    0    0    0    0\n",
      "     0    0    1    0    0    0    0    2    0    1]\n",
      " [   6   14    4   19    5   15    4    5 1200   16    0    3    0    0\n",
      "     0    0    0    0    1    0    0    0    1    0]\n",
      " [   8   37   55   23   14    5    0   15    6 2099   74    1    5    6\n",
      "     2    3   12    9    1    6    6    7    0    8]\n",
      " [  10   21   26   17    1    1    0    0    3  130  242    2    9    7\n",
      "     0    0   10    9    6    4    5    5    2    0]\n",
      " [   4   21    3   10    2    0    0    0    5   16   20  312   20    6\n",
      "     6    2   17   16    4    5    1    2   11    2]\n",
      " [  22   11   15    4    9    0    3    0    1   58   13   26  272    6\n",
      "    12    3   12    1    2    2    2    5    5    0]\n",
      " [  16   11   23   10    0    1    7    0    0   38    5    6   10  334\n",
      "     5    6    3    6    0   31    0    1    0    3]\n",
      " [  32   10    5    5    0    0    6    0    0    9    3    4    8   11\n",
      "   385    9    6    2    2    1    9    0    2    1]\n",
      " [  10    2    3    0    0    0    4    0    0    4    0    1    0    4\n",
      "     9  420    1    0    2    9    4    0    5    9]\n",
      " [  16    8    0    0    0    0    0    0    0    2    0    0    0    0\n",
      "     0    1  454    1    0    0    9    0    0    3]\n",
      " [   1   24    8    2    0    0    0    0    0   12   15    1    7    0\n",
      "     6    7   20  343   20    7    2    6   11    2]\n",
      " [   4   22    7    1    0    1    0    0    0   23    8    3    3    1\n",
      "     4    3   26   61  311    2    1    5   23    8]\n",
      " [  11   17   13    3    1    0    2    0    0   45   10    4    1   35\n",
      "     7   46    7    8    2  278    0    1    2    0]\n",
      " [ 127    4    3    2    0    0    0    0    0    7    3    2    0    0\n",
      "     4   16   35    0    1    3  315    0    1    1]\n",
      " [   2   41    7    4    1    0    0    7    0   18    9    6    2    0\n",
      "     0    0    5    6    0    6    2  363    0    3]\n",
      " [   6   22    5    2    1    0    0    0    0    5    4   10   11    1\n",
      "     4    4   20   31   15    0    2    2  381    0]\n",
      " [   8    9    3   10    0    0    0    0    0   14    1    2    1    7\n",
      "     4   13   22    1    2    1    8    7    1  457]]\n"
     ]
    }
   ],
   "source": [
    "confusion = metrics.confusion_matrix(y_test, y_pred)\n",
    "print(confusion)"
   ]
  },
  {
   "cell_type": "code",
   "execution_count": 13,
   "id": "fc8ca243",
   "metadata": {},
   "outputs": [
    {
     "data": {
      "text/plain": [
       "Text(0.5, 1, 'confusion matrix for MNIST dataset')"
      ]
     },
     "execution_count": 13,
     "metadata": {},
     "output_type": "execute_result"
    },
    {
     "data": {
      "image/png": "[encoded data removed]",
      "text/plain": [
       "<Figure size 432x288 with 2 Axes>"
      ]
     },
     "metadata": {
      "needs_background": "light"
     },
     "output_type": "display_data"
    }
   ],
   "source": [
    "import seaborn as sns\n",
    "s = sns.heatmap(confusion, annot = True, cmap = 'nipy_spectral_r')\n",
    "s.set_title('confusion matrix for MNIST dataset')"
   ]
  },
  {
   "cell_type": "code",
   "execution_count": 14,
   "id": "7693fb18",
   "metadata": {},
   "outputs": [
    {
     "name": "stdout",
     "output_type": "stream",
     "text": [
      "accuracy from knn.score= 0.8586\n"
     ]
    }
   ],
   "source": [
    "acc = knn.score(X_test_,y_test)\n",
    "print(f'accuracy from knn.score= {acc:.4}')"
   ]
  },
  {
   "cell_type": "code",
   "execution_count": 15,
   "id": "4eed024c",
   "metadata": {},
   "outputs": [
    {
     "name": "stdout",
     "output_type": "stream",
     "text": [
      "accuracy from metrics.accuracy= 0.8586\n"
     ]
    }
   ],
   "source": [
    "acc = metrics.accuracy_score(y_test, y_pred)\n",
    "print(f'accuracy from metrics.accuracy= {acc:.4}')"
   ]
  },
  {
   "cell_type": "code",
   "execution_count": 16,
   "id": "73f85410",
   "metadata": {},
   "outputs": [
    {
     "data": {
      "text/plain": [
       "(96768, 784)"
      ]
     },
     "execution_count": 16,
     "metadata": {},
     "output_type": "execute_result"
    }
   ],
   "source": [
    "from sklearn.preprocessing import StandardScaler\n",
    "scaler = StandardScaler()\n",
    "scaler.fit(X_train,y_train)\n",
    "X_train = scaler.transform(X_train)\n",
    "X_train.shape"
   ]
  },
  {
   "cell_type": "code",
   "execution_count": 17,
   "id": "db6f6090",
   "metadata": {},
   "outputs": [
    {
     "data": {
      "text/plain": [
       "KNeighborsClassifier()"
      ]
     },
     "execution_count": 17,
     "metadata": {},
     "output_type": "execute_result"
    }
   ],
   "source": [
    "knn = KNeighborsClassifier(n_neighbors = 5)\n",
    "knn.fit(X_train, y_train)"
   ]
  },
  {
   "cell_type": "code",
   "execution_count": 18,
   "id": "eff5683f",
   "metadata": {},
   "outputs": [
    {
     "data": {
      "text/plain": [
       "array([11, 11,  0, ...,  3, 12,  3])"
      ]
     },
     "execution_count": 18,
     "metadata": {},
     "output_type": "execute_result"
    }
   ],
   "source": [
    "y_pred = knn.predict(X_test_)\n",
    "\n",
    "y_pred"
   ]
  },
  {
   "cell_type": "code",
   "execution_count": 23,
   "id": "dcc364c6",
   "metadata": {},
   "outputs": [
    {
     "name": "stdout",
     "output_type": "stream",
     "text": [
      "              precision    recall  f1-score   support\n",
      "\n",
      "           0       0.50      0.99      0.67       980\n",
      "           1       1.00      0.89      0.94      1135\n",
      "           2       0.94      0.85      0.89      1032\n",
      "           3       0.95      0.74      0.83      1010\n",
      "           4       0.99      0.57      0.72       982\n",
      "           5       0.98      0.60      0.75       892\n",
      "           6       0.96      0.88      0.92       958\n",
      "           7       0.96      0.84      0.90      1028\n",
      "           8       0.57      0.89      0.69       974\n",
      "           9       0.85      0.77      0.81      1009\n",
      "\n",
      "    accuracy                           0.80     10000\n",
      "   macro avg       0.87      0.80      0.81     10000\n",
      "weighted avg       0.87      0.80      0.81     10000\n",
      "\n"
     ]
    }
   ],
   "source": [
    "from sklearn.metrics import classification_report\n",
    "report = classification_report(y_test, y_pred)\n",
    "print(report)"
   ]
  },
  {
   "cell_type": "code",
   "execution_count": 27,
   "id": "1c3bf9ef",
   "metadata": {},
   "outputs": [],
   "source": [
    "model_params = {\n",
    "    'knn': {\n",
    "        'model': KNeighborsClassifier(),\n",
    "        'params' : {\n",
    "            'n_neighbors': [7,11,13]\n",
    "        }\n",
    "    }\n",
    "}"
   ]
  },
  {
   "cell_type": "code",
   "execution_count": 28,
   "id": "5b02aaae",
   "metadata": {},
   "outputs": [
    {
     "data": {
      "text/html": [
       "<div>\n",
       "<style scoped>\n",
       "    .dataframe tbody tr th:only-of-type {\n",
       "        vertical-align: middle;\n",
       "    }\n",
       "\n",
       "    .dataframe tbody tr th {\n",
       "        vertical-align: top;\n",
       "    }\n",
       "\n",
       "    .dataframe thead th {\n",
       "        text-align: right;\n",
       "    }\n",
       "</style>\n",
       "<table border=\"1\" class=\"dataframe\">\n",
       "  <thead>\n",
       "    <tr style=\"text-align: right;\">\n",
       "      <th></th>\n",
       "      <th>model</th>\n",
       "      <th>best_score</th>\n",
       "      <th>best_params</th>\n",
       "    </tr>\n",
       "  </thead>\n",
       "  <tbody>\n",
       "    <tr>\n",
       "      <th>0</th>\n",
       "      <td>knn</td>\n",
       "      <td>0.7077</td>\n",
       "      <td>{'n_neighbors': 7}</td>\n",
       "    </tr>\n",
       "  </tbody>\n",
       "</table>\n",
       "</div>"
      ],
      "text/plain": [
       "  model  best_score         best_params\n",
       "0   knn      0.7077  {'n_neighbors': 7}"
      ]
     },
     "execution_count": 28,
     "metadata": {},
     "output_type": "execute_result"
    }
   ],
   "source": [
    "from sklearn.model_selection import GridSearchCV\n",
    "scores = []\n",
    "X_train = X_train[:10000]\n",
    "y_train = y_train[0:10000]\n",
    "for model_name, mp in model_params.items():\n",
    "    clfgrid =  GridSearchCV(mp['model'], mp['params'], cv=5,n_jobs = -1 ,return_train_score=False)\n",
    "    clfgrid.fit(X_train, y_train)\n",
    "    scores.append({\n",
    "        'model': model_name,\n",
    "        'best_score': clfgrid.best_score_,\n",
    "        'best_params': clfgrid.best_params_\n",
    "    })\n",
    "    \n",
    "df_grid = pd.DataFrame(scores,columns=['model','best_score','best_params'])\n",
    "df_grid\n"
   ]
  },
  {
   "cell_type": "code",
   "execution_count": 29,
   "id": "033c7bb6",
   "metadata": {},
   "outputs": [
    {
     "data": {
      "text/plain": [
       "KNeighborsClassifier(n_neighbors=7)"
      ]
     },
     "execution_count": 29,
     "metadata": {},
     "output_type": "execute_result"
    }
   ],
   "source": [
    "knn = KNeighborsClassifier(n_neighbors = 7)\n",
    "knn.fit(X_train, y_train)"
   ]
  },
  {
   "cell_type": "code",
   "execution_count": 30,
   "id": "2eefdf27",
   "metadata": {},
   "outputs": [
    {
     "data": {
      "text/plain": [
       "array([ 5,  9, 16, ...,  2,  9,  3])"
      ]
     },
     "execution_count": 30,
     "metadata": {},
     "output_type": "execute_result"
    }
   ],
   "source": [
    "y_pred = knn.predict(X_test_)\n",
    "y_pred"
   ]
  },
  {
   "cell_type": "code",
   "execution_count": 11,
   "id": "54b57efc",
   "metadata": {},
   "outputs": [
    {
     "name": "stdout",
     "output_type": "stream",
     "text": [
      "              precision    recall  f1-score   support\n",
      "\n",
      "           0       0.94      0.99      0.96       980\n",
      "           1       0.91      1.00      0.95      1135\n",
      "           2       0.98      0.91      0.94      1032\n",
      "           3       0.93      0.95      0.94      1010\n",
      "           4       0.97      0.93      0.95       982\n",
      "           5       0.96      0.93      0.95       892\n",
      "           6       0.95      0.98      0.97       958\n",
      "           7       0.93      0.93      0.93      1028\n",
      "           8       0.98      0.88      0.93       974\n",
      "           9       0.91      0.94      0.93      1009\n",
      "\n",
      "    accuracy                           0.94     10000\n",
      "   macro avg       0.95      0.94      0.94     10000\n",
      "weighted avg       0.95      0.94      0.94     10000\n",
      "\n"
     ]
    }
   ],
   "source": [
    "from sklearn.metrics import classification_report\n",
    "report = classification_report(y_test, y_pred)\n",
    "print(report)"
   ]
  },
  {
   "cell_type": "code",
   "execution_count": 19,
   "id": "d9f3b367",
   "metadata": {},
   "outputs": [],
   "source": [
    "index = 0\n",
    "misclassifiedIndex = []\n",
    "for predict, actual in zip(y_pred,y_test):\n",
    "    if predict != actual:\n",
    "        misclassifiedIndex.append(index)\n",
    "    index += 1"
   ]
  },
  {
   "cell_type": "code",
   "execution_count": 48,
   "id": "c358a444",
   "metadata": {},
   "outputs": [
    {
     "data": {
      "image/png": "[encoded data removed]",
      "text/plain": [
       "<Figure size 2160x720 with 5 Axes>"
      ]
     },
     "metadata": {
      "needs_background": "light"
     },
     "output_type": "display_data"
    }
   ],
   "source": [
    "plt.figure(figsize = (30,10))\n",
    "X_test = np.array(X_test)\n",
    "for plotIndex, wrong in enumerate(misclassifiedIndex[0:5]):\n",
    "    plt.subplot(1,5,plotIndex + 1)\n",
    "    plt.imshow(X_test[wrong], cmap = plt.cm.gray)\n",
    "    plt.title('Predicted: {},Actual: {}'.format(y_pred[wrong],y_test[wrong]),fontsize = 20)"
   ]
  }
 ],
 "metadata": {
  "kernelspec": {
   "display_name": "Python 3 (ipykernel)",
   "language": "python",
   "name": "python3"
  },
  "language_info": {
   "codemirror_mode": {
    "name": "ipython",
    "version": 3
   },
   "file_extension": ".py",
   "mimetype": "text/x-python",
   "name": "python",
   "nbconvert_exporter": "python",
   "pygments_lexer": "ipython3",
   "version": "3.7.13"
  }
 },
 "nbformat": 4,
 "nbformat_minor": 5
}
